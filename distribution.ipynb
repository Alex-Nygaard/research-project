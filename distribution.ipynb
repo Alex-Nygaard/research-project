{
 "cells": [
  {
   "cell_type": "code",
   "id": "initial_id",
   "metadata": {
    "collapsed": true,
    "ExecuteTime": {
     "end_time": "2024-06-01T10:17:51.774050Z",
     "start_time": "2024-06-01T10:17:49.495174Z"
    }
   },
   "source": [
    "import datasets\n",
    "from datasets import Dataset, DatasetDict\n",
    "\n",
    "from torchvision.transforms import ToTensor, Normalize, Compose, Resize"
   ],
   "outputs": [],
   "execution_count": 1
  },
  {
   "metadata": {},
   "cell_type": "code",
   "outputs": [],
   "execution_count": null,
   "source": [
    "NUM_CLIENTS = 100\n",
    "NUM_LABELS = 10\n",
    "\n",
    "DEPLOYMENT_DATASET = \"cifar10\"\n",
    "DEPLOYMENT_DATA_SAVE_PATH = \"rework/deployment_data\""
   ],
   "id": "2d58e00fb56d4c28"
  },
  {
   "metadata": {},
   "cell_type": "code",
   "outputs": [],
   "execution_count": null,
   "source": [
    "# load dataset\n",
    "try:\n",
    "    dataset = datasets.load_from_disk(DEPLOYMENT_DATA_SAVE_PATH, keep_in_memory=False)\n",
    "    print(\"Dataset found and loaded.\")\n",
    "except FileNotFoundError:\n",
    "    print(\"Dataset not found, downloading...\")\n",
    "    dataset = datasets.load_dataset(path=DEPLOYMENT_DATASET, keep_in_memory=False)\n",
    "    dataset.save_to_disk(DEPLOYMENT_DATA_SAVE_PATH)"
   ],
   "id": "ae5a659b32b19e0d"
  },
  {
   "metadata": {
    "ExecuteTime": {
     "end_time": "2024-06-01T10:27:40.252514Z",
     "start_time": "2024-06-01T10:27:38.563920Z"
    }
   },
   "cell_type": "code",
   "source": [
    "from noniid.dataset.cifar10_noniid import get_dataset_cifar10_extr_noniid\n",
    "\n",
    "num_users_cifar = 100\n",
    "nclass_cifar = 2\n",
    "nsamples_cifar = 20\n",
    "rate_unbalance_cifar = 0.5\n",
    "\n",
    "\n",
    "train_dataset_cifar, test_dataset_cifar, user_groups_train_cifar, user_groups_test_cifar = get_dataset_cifar10_extr_noniid(num_users_cifar, nclass_cifar, nsamples_cifar, rate_unbalance_cifar)\n"
   ],
   "id": "213e9e97a90738f",
   "outputs": [
    {
     "name": "stdout",
     "output_type": "stream",
     "text": [
      "Files already downloaded and verified\n",
      "Files already downloaded and verified\n"
     ]
    }
   ],
   "execution_count": 8
  },
  {
   "metadata": {
    "ExecuteTime": {
     "end_time": "2024-06-01T10:27:41.801076Z",
     "start_time": "2024-06-01T10:27:41.793959Z"
    }
   },
   "cell_type": "code",
   "source": [
    "for user, group in user_groups_train_cifar.items():\n",
    "    print(f\"User {user} has {len(group)} samples.\")"
   ],
   "id": "16105179ec3ebf72",
   "outputs": [
    {
     "name": "stdout",
     "output_type": "stream",
     "text": [
      "User 0 has 30 samples.\n",
      "User 1 has 30 samples.\n",
      "User 2 has 30 samples.\n",
      "User 3 has 30 samples.\n",
      "User 4 has 30 samples.\n",
      "User 5 has 30 samples.\n",
      "User 6 has 30 samples.\n",
      "User 7 has 30 samples.\n",
      "User 8 has 30 samples.\n",
      "User 9 has 30 samples.\n",
      "User 10 has 30 samples.\n",
      "User 11 has 30 samples.\n",
      "User 12 has 30 samples.\n",
      "User 13 has 30 samples.\n",
      "User 14 has 30 samples.\n",
      "User 15 has 30 samples.\n",
      "User 16 has 30 samples.\n",
      "User 17 has 30 samples.\n",
      "User 18 has 30 samples.\n",
      "User 19 has 30 samples.\n",
      "User 20 has 30 samples.\n",
      "User 21 has 30 samples.\n",
      "User 22 has 30 samples.\n",
      "User 23 has 30 samples.\n",
      "User 24 has 30 samples.\n",
      "User 25 has 30 samples.\n",
      "User 26 has 30 samples.\n",
      "User 27 has 30 samples.\n",
      "User 28 has 30 samples.\n",
      "User 29 has 30 samples.\n",
      "User 30 has 30 samples.\n",
      "User 31 has 30 samples.\n",
      "User 32 has 30 samples.\n",
      "User 33 has 30 samples.\n",
      "User 34 has 30 samples.\n",
      "User 35 has 30 samples.\n",
      "User 36 has 30 samples.\n",
      "User 37 has 30 samples.\n",
      "User 38 has 30 samples.\n",
      "User 39 has 30 samples.\n",
      "User 40 has 30 samples.\n",
      "User 41 has 30 samples.\n",
      "User 42 has 30 samples.\n",
      "User 43 has 30 samples.\n",
      "User 44 has 30 samples.\n",
      "User 45 has 30 samples.\n",
      "User 46 has 30 samples.\n",
      "User 47 has 30 samples.\n",
      "User 48 has 30 samples.\n",
      "User 49 has 30 samples.\n",
      "User 50 has 30 samples.\n",
      "User 51 has 30 samples.\n",
      "User 52 has 30 samples.\n",
      "User 53 has 30 samples.\n",
      "User 54 has 30 samples.\n",
      "User 55 has 30 samples.\n",
      "User 56 has 30 samples.\n",
      "User 57 has 30 samples.\n",
      "User 58 has 30 samples.\n",
      "User 59 has 30 samples.\n",
      "User 60 has 30 samples.\n",
      "User 61 has 30 samples.\n",
      "User 62 has 30 samples.\n",
      "User 63 has 30 samples.\n",
      "User 64 has 30 samples.\n",
      "User 65 has 30 samples.\n",
      "User 66 has 30 samples.\n",
      "User 67 has 30 samples.\n",
      "User 68 has 30 samples.\n",
      "User 69 has 30 samples.\n",
      "User 70 has 30 samples.\n",
      "User 71 has 30 samples.\n",
      "User 72 has 30 samples.\n",
      "User 73 has 30 samples.\n",
      "User 74 has 30 samples.\n",
      "User 75 has 30 samples.\n",
      "User 76 has 30 samples.\n",
      "User 77 has 30 samples.\n",
      "User 78 has 30 samples.\n",
      "User 79 has 30 samples.\n",
      "User 80 has 30 samples.\n",
      "User 81 has 30 samples.\n",
      "User 82 has 30 samples.\n",
      "User 83 has 30 samples.\n",
      "User 84 has 30 samples.\n",
      "User 85 has 30 samples.\n",
      "User 86 has 30 samples.\n",
      "User 87 has 30 samples.\n",
      "User 88 has 30 samples.\n",
      "User 89 has 30 samples.\n",
      "User 90 has 30 samples.\n",
      "User 91 has 30 samples.\n",
      "User 92 has 30 samples.\n",
      "User 93 has 30 samples.\n",
      "User 94 has 30 samples.\n",
      "User 95 has 30 samples.\n",
      "User 96 has 30 samples.\n",
      "User 97 has 30 samples.\n",
      "User 98 has 30 samples.\n",
      "User 99 has 30 samples.\n"
     ]
    }
   ],
   "execution_count": 9
  },
  {
   "metadata": {
    "ExecuteTime": {
     "end_time": "2024-06-01T10:58:53.342344Z",
     "start_time": "2024-06-01T10:58:47.246674Z"
    }
   },
   "cell_type": "code",
   "source": [
    "from niid_bench.niid_bench.dataset import load_datasets\n",
    "\n",
    "train_datasets, test_datasets, valid_set, datasets = load_datasets({\n",
    "    \"partitioning\": \"dirichlet\",\n",
    "    \"similarity\": 0.01,\n",
    "    \"name\": \"mnist\",\n",
    "    \"alpha\": 1,\n",
    "    \"batch_size\": 32,\n",
    "}, 100)"
   ],
   "id": "93ff2cb4bdda2d43",
   "outputs": [
    {
     "name": "stdout",
     "output_type": "stream",
     "text": [
      "Dataset partitioning config: {'partitioning': 'dirichlet', 'similarity': 0.01, 'name': 'mnist', 'alpha': 1, 'batch_size': 32}\n",
      "Downloading http://yann.lecun.com/exdb/mnist/train-images-idx3-ubyte.gz\n",
      "Failed to download (trying next):\n",
      "HTTP Error 403: Forbidden\n",
      "\n",
      "Downloading https://ossci-datasets.s3.amazonaws.com/mnist/train-images-idx3-ubyte.gz\n",
      "Downloading https://ossci-datasets.s3.amazonaws.com/mnist/train-images-idx3-ubyte.gz to data/MNIST/raw/train-images-idx3-ubyte.gz\n"
     ]
    },
    {
     "name": "stderr",
     "output_type": "stream",
     "text": [
      "100%|██████████| 9912422/9912422 [00:01<00:00, 7535837.21it/s] \n"
     ]
    },
    {
     "name": "stdout",
     "output_type": "stream",
     "text": [
      "Extracting data/MNIST/raw/train-images-idx3-ubyte.gz to data/MNIST/raw\n",
      "\n",
      "Downloading http://yann.lecun.com/exdb/mnist/train-labels-idx1-ubyte.gz\n",
      "Failed to download (trying next):\n",
      "HTTP Error 403: Forbidden\n",
      "\n",
      "Downloading https://ossci-datasets.s3.amazonaws.com/mnist/train-labels-idx1-ubyte.gz\n",
      "Downloading https://ossci-datasets.s3.amazonaws.com/mnist/train-labels-idx1-ubyte.gz to data/MNIST/raw/train-labels-idx1-ubyte.gz\n"
     ]
    },
    {
     "name": "stderr",
     "output_type": "stream",
     "text": [
      "100%|██████████| 28881/28881 [00:00<00:00, 307192.15it/s]\n"
     ]
    },
    {
     "name": "stdout",
     "output_type": "stream",
     "text": [
      "Extracting data/MNIST/raw/train-labels-idx1-ubyte.gz to data/MNIST/raw\n",
      "\n",
      "Downloading http://yann.lecun.com/exdb/mnist/t10k-images-idx3-ubyte.gz\n",
      "Failed to download (trying next):\n",
      "HTTP Error 403: Forbidden\n",
      "\n",
      "Downloading https://ossci-datasets.s3.amazonaws.com/mnist/t10k-images-idx3-ubyte.gz\n",
      "Downloading https://ossci-datasets.s3.amazonaws.com/mnist/t10k-images-idx3-ubyte.gz to data/MNIST/raw/t10k-images-idx3-ubyte.gz\n"
     ]
    },
    {
     "name": "stderr",
     "output_type": "stream",
     "text": [
      "100%|██████████| 1648877/1648877 [00:00<00:00, 2934028.05it/s]\n"
     ]
    },
    {
     "name": "stdout",
     "output_type": "stream",
     "text": [
      "Extracting data/MNIST/raw/t10k-images-idx3-ubyte.gz to data/MNIST/raw\n",
      "\n",
      "Downloading http://yann.lecun.com/exdb/mnist/t10k-labels-idx1-ubyte.gz\n",
      "Failed to download (trying next):\n",
      "HTTP Error 403: Forbidden\n",
      "\n",
      "Downloading https://ossci-datasets.s3.amazonaws.com/mnist/t10k-labels-idx1-ubyte.gz\n",
      "Downloading https://ossci-datasets.s3.amazonaws.com/mnist/t10k-labels-idx1-ubyte.gz to data/MNIST/raw/t10k-labels-idx1-ubyte.gz\n"
     ]
    },
    {
     "name": "stderr",
     "output_type": "stream",
     "text": [
      "100%|██████████| 4542/4542 [00:00<00:00, 2148475.11it/s]"
     ]
    },
    {
     "name": "stdout",
     "output_type": "stream",
     "text": [
      "Extracting data/MNIST/raw/t10k-labels-idx1-ubyte.gz to data/MNIST/raw\n",
      "\n"
     ]
    },
    {
     "name": "stderr",
     "output_type": "stream",
     "text": [
      "\n"
     ]
    }
   ],
   "execution_count": 14
  },
  {
   "metadata": {
    "ExecuteTime": {
     "end_time": "2024-06-01T10:59:07.999818Z",
     "start_time": "2024-06-01T10:59:07.983816Z"
    }
   },
   "cell_type": "code",
   "source": [
    "print(sum([len(dataset) for dataset in datasets]))\n",
    "for dataset in datasets:\n",
    "    print(len(dataset))"
   ],
   "id": "bba3524a94f2f61f",
   "outputs": [
    {
     "name": "stdout",
     "output_type": "stream",
     "text": [
      "60000\n",
      "657\n",
      "604\n",
      "621\n",
      "644\n",
      "644\n",
      "529\n",
      "710\n",
      "628\n",
      "676\n",
      "593\n",
      "608\n",
      "616\n",
      "612\n",
      "624\n",
      "775\n",
      "560\n",
      "611\n",
      "229\n",
      "711\n",
      "535\n",
      "463\n",
      "876\n",
      "610\n",
      "518\n",
      "623\n",
      "637\n",
      "739\n",
      "443\n",
      "473\n",
      "495\n",
      "656\n",
      "860\n",
      "577\n",
      "509\n",
      "610\n",
      "391\n",
      "627\n",
      "555\n",
      "628\n",
      "447\n",
      "608\n",
      "618\n",
      "738\n",
      "505\n",
      "619\n",
      "704\n",
      "634\n",
      "717\n",
      "560\n",
      "630\n",
      "429\n",
      "776\n",
      "649\n",
      "564\n",
      "758\n",
      "611\n",
      "665\n",
      "261\n",
      "502\n",
      "438\n",
      "602\n",
      "861\n",
      "736\n",
      "607\n",
      "595\n",
      "596\n",
      "617\n",
      "726\n",
      "534\n",
      "633\n",
      "605\n",
      "714\n",
      "518\n",
      "443\n",
      "862\n",
      "351\n",
      "649\n",
      "531\n",
      "500\n",
      "586\n",
      "784\n",
      "518\n",
      "625\n",
      "660\n",
      "615\n",
      "558\n",
      "678\n",
      "598\n",
      "750\n",
      "694\n",
      "671\n",
      "612\n",
      "477\n",
      "325\n",
      "660\n",
      "633\n",
      "641\n",
      "433\n",
      "285\n",
      "607\n"
     ]
    }
   ],
   "execution_count": 15
  },
  {
   "metadata": {
    "ExecuteTime": {
     "end_time": "2024-06-01T10:58:05.909155Z",
     "start_time": "2024-06-01T10:58:05.790684Z"
    }
   },
   "cell_type": "code",
   "source": [
    "import matplotlib.pyplot as plt\n",
    "\n",
    "plt.hist([len(dataset) for dataset in datasets], bins=20)"
   ],
   "id": "7ebfda66d926cbb0",
   "outputs": [
    {
     "data": {
      "text/plain": [
       "(array([ 1.,  1.,  3.,  2.,  2.,  7.,  9.,  9., 15., 25.,  8.,  7.,  4.,\n",
       "         2.,  2.,  1.,  1.,  0.,  0.,  1.]),\n",
       " array([176.  , 212.95, 249.9 , 286.85, 323.8 , 360.75, 397.7 , 434.65,\n",
       "        471.6 , 508.55, 545.5 , 582.45, 619.4 , 656.35, 693.3 , 730.25,\n",
       "        767.2 , 804.15, 841.1 , 878.05, 915.  ]),\n",
       " <BarContainer object of 20 artists>)"
      ]
     },
     "execution_count": 12,
     "metadata": {},
     "output_type": "execute_result"
    },
    {
     "data": {
      "text/plain": [
       "<Figure size 640x480 with 1 Axes>"
      ],
      "image/png": "[encoded data removed]"
     },
     "metadata": {},
     "output_type": "display_data"
    }
   ],
   "execution_count": 12
  },
  {
   "metadata": {},
   "cell_type": "code",
   "outputs": [],
   "execution_count": null,
   "source": "",
   "id": "70e3cae03496bf55"
  }
 ],
 "metadata": {
  "kernelspec": {
   "display_name": "Python 3",
   "language": "python",
   "name": "python3"
  },
  "language_info": {
   "codemirror_mode": {
    "name": "ipython",
    "version": 2
   },
   "file_extension": ".py",
   "mimetype": "text/x-python",
   "name": "python",
   "nbconvert_exporter": "python",
   "pygments_lexer": "ipython2",
   "version": "2.7.6"
  }
 },
 "nbformat": 4,
 "nbformat_minor": 5
}
