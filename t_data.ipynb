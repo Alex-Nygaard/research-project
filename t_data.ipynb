{
 "cells": [
  {
   "cell_type": "code",
   "id": "initial_id",
   "metadata": {
    "collapsed": true,
    "ExecuteTime": {
     "end_time": "2024-05-20T13:04:56.143974Z",
     "start_time": "2024-05-20T13:04:55.476707Z"
    }
   },
   "source": "import datasets\n",
   "outputs": [],
   "execution_count": 1
  },
  {
   "metadata": {
    "ExecuteTime": {
     "end_time": "2024-05-20T13:05:08.628714Z",
     "start_time": "2024-05-20T13:05:08.623973Z"
    }
   },
   "cell_type": "code",
   "source": "DATA_SAVE_PATH = \"data/storage\"",
   "id": "c8417178945622d1",
   "outputs": [],
   "execution_count": 2
  },
  {
   "metadata": {
    "ExecuteTime": {
     "end_time": "2024-05-20T13:05:20.566189Z",
     "start_time": "2024-05-20T13:05:20.497327Z"
    }
   },
   "cell_type": "code",
   "source": "dataset = datasets.load_from_disk(DATA_SAVE_PATH, keep_in_memory=True)",
   "id": "3212f65fe186f743",
   "outputs": [],
   "execution_count": 3
  },
  {
   "metadata": {
    "ExecuteTime": {
     "end_time": "2024-05-20T13:05:23.596203Z",
     "start_time": "2024-05-20T13:05:23.588419Z"
    }
   },
   "cell_type": "code",
   "source": "dataset",
   "id": "f74641f9b8c00cc7",
   "outputs": [
    {
     "data": {
      "text/plain": [
       "DatasetDict({\n",
       "    train: Dataset({\n",
       "        features: ['img', 'label'],\n",
       "        num_rows: 50000\n",
       "    })\n",
       "    test: Dataset({\n",
       "        features: ['img', 'label'],\n",
       "        num_rows: 10000\n",
       "    })\n",
       "})"
      ]
     },
     "execution_count": 4,
     "metadata": {},
     "output_type": "execute_result"
    }
   ],
   "execution_count": 4
  },
  {
   "metadata": {
    "ExecuteTime": {
     "end_time": "2024-05-20T13:06:11.855953Z",
     "start_time": "2024-05-20T13:06:11.851297Z"
    }
   },
   "cell_type": "code",
   "source": "train_set = dataset[\"train\"]",
   "id": "df616bcdbcb79aad",
   "outputs": [],
   "execution_count": 8
  },
  {
   "metadata": {
    "ExecuteTime": {
     "end_time": "2024-05-20T13:06:27.284184Z",
     "start_time": "2024-05-20T13:06:27.267853Z"
    }
   },
   "cell_type": "code",
   "source": "train_set.train_test_split(test_size=0.1)",
   "id": "ab8288847a24d21f",
   "outputs": [
    {
     "data": {
      "text/plain": [
       "DatasetDict({\n",
       "    train: Dataset({\n",
       "        features: ['img', 'label'],\n",
       "        num_rows: 45000\n",
       "    })\n",
       "    test: Dataset({\n",
       "        features: ['img', 'label'],\n",
       "        num_rows: 5000\n",
       "    })\n",
       "})"
      ]
     },
     "execution_count": 9,
     "metadata": {},
     "output_type": "execute_result"
    }
   ],
   "execution_count": 9
  },
  {
   "metadata": {
    "ExecuteTime": {
     "end_time": "2024-05-20T13:21:00.191743Z",
     "start_time": "2024-05-20T13:21:00.137988Z"
    }
   },
   "cell_type": "code",
   "source": "train_set.select(range(50000))",
   "id": "8f5e120dfa8fa425",
   "outputs": [
    {
     "data": {
      "text/plain": [
       "Dataset({\n",
       "    features: ['img', 'label'],\n",
       "    num_rows: 50000\n",
       "})"
      ]
     },
     "execution_count": 13,
     "metadata": {},
     "output_type": "execute_result"
    }
   ],
   "execution_count": 13
  },
  {
   "metadata": {
    "ExecuteTime": {
     "end_time": "2024-05-20T13:25:45.367898Z",
     "start_time": "2024-05-20T13:25:45.362403Z"
    }
   },
   "cell_type": "code",
   "source": "subset = train_set.select(range(12500))\n",
   "id": "8dcec6666d3b9baa",
   "outputs": [],
   "execution_count": 16
  },
  {
   "metadata": {
    "ExecuteTime": {
     "end_time": "2024-05-20T13:25:53.841403Z",
     "start_time": "2024-05-20T13:25:53.816787Z"
    }
   },
   "cell_type": "code",
   "source": "subset.train_test_split(test_size=0.1)",
   "id": "41454a4c68f93d3b",
   "outputs": [
    {
     "data": {
      "text/plain": [
       "DatasetDict({\n",
       "    train: Dataset({\n",
       "        features: ['img', 'label'],\n",
       "        num_rows: 11250\n",
       "    })\n",
       "    test: Dataset({\n",
       "        features: ['img', 'label'],\n",
       "        num_rows: 1250\n",
       "    })\n",
       "})"
      ]
     },
     "execution_count": 17,
     "metadata": {},
     "output_type": "execute_result"
    }
   ],
   "execution_count": 17
  },
  {
   "metadata": {},
   "cell_type": "code",
   "outputs": [],
   "execution_count": null,
   "source": "",
   "id": "d9a2c7a918c5604d"
  }
 ],
 "metadata": {
  "kernelspec": {
   "display_name": "Python 3",
   "language": "python",
   "name": "python3"
  },
  "language_info": {
   "codemirror_mode": {
    "name": "ipython",
    "version": 2
   },
   "file_extension": ".py",
   "mimetype": "text/x-python",
   "name": "python",
   "nbconvert_exporter": "python",
   "pygments_lexer": "ipython2",
   "version": "2.7.6"
  }
 },
 "nbformat": 4,
 "nbformat_minor": 5
}
