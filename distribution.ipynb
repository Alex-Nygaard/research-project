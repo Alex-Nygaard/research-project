{
 "cells": [
  {
   "cell_type": "code",
   "id": "initial_id",
   "metadata": {
    "collapsed": true,
    "ExecuteTime": {
     "end_time": "2024-06-01T10:17:51.774050Z",
     "start_time": "2024-06-01T10:17:49.495174Z"
    }
   },
   "source": [
    "import datasets\n",
    "from datasets import Dataset, DatasetDict\n",
    "\n",
    "from torchvision.transforms import ToTensor, Normalize, Compose, Resize"
   ],
   "outputs": [],
   "execution_count": 1
  },
  {
   "metadata": {
    "ExecuteTime": {
     "end_time": "2024-06-07T14:16:05.009454Z",
     "start_time": "2024-06-07T14:15:58.904884Z"
    }
   },
   "cell_type": "code",
   "source": [
    "from client.client import FlowerClient\n",
    "\n",
    "FlowerClient.generate_deployment_clients(10, [])"
   ],
   "id": "3a342581fc88c679",
   "outputs": [
    {
     "name": "stdout",
     "output_type": "stream",
     "text": [
      "Dataset partitioning config: {'partitioning': 'dirichlet', 'alpha': 0.5, 'batch_sizes': [32, 128, 16, 16, 64, 64, 64, 16, 32, 32], 'name': 'cifar10'}\n",
      "Files already downloaded and verified\n",
      "Files already downloaded and verified\n"
     ]
    },
    {
     "ename": "AttributeError",
     "evalue": "Can't pickle local object '_download_data.<locals>.<lambda>'",
     "output_type": "error",
     "traceback": [
      "\u001B[0;31m---------------------------------------------------------------------------\u001B[0m",
      "\u001B[0;31mAttributeError\u001B[0m                            Traceback (most recent call last)",
      "Cell \u001B[0;32mIn[1], line 3\u001B[0m\n\u001B[1;32m      1\u001B[0m \u001B[38;5;28;01mfrom\u001B[39;00m \u001B[38;5;21;01mclient\u001B[39;00m\u001B[38;5;21;01m.\u001B[39;00m\u001B[38;5;21;01mclient\u001B[39;00m \u001B[38;5;28;01mimport\u001B[39;00m FlowerClient\n\u001B[0;32m----> 3\u001B[0m \u001B[43mFlowerClient\u001B[49m\u001B[38;5;241;43m.\u001B[39;49m\u001B[43mgenerate_deployment_clients\u001B[49m\u001B[43m(\u001B[49m\u001B[38;5;241;43m10\u001B[39;49m\u001B[43m,\u001B[49m\u001B[43m \u001B[49m\u001B[43m[\u001B[49m\u001B[43m]\u001B[49m\u001B[43m)\u001B[49m\n",
      "File \u001B[0;32m~/MyStuff/TUDelft/research-project/project/client/client.py:158\u001B[0m, in \u001B[0;36mFlowerClient.generate_deployment_clients\u001B[0;34m(cls, num, output_paths)\u001B[0m\n\u001B[1;32m    156\u001B[0m config_path \u001B[38;5;241m=\u001B[39m os\u001B[38;5;241m.\u001B[39mpath\u001B[38;5;241m.\u001B[39mjoin(base_data_path, \u001B[38;5;124m\"\u001B[39m\u001B[38;5;124mconfig.json\u001B[39m\u001B[38;5;124m\"\u001B[39m)\n\u001B[1;32m    157\u001B[0m \u001B[38;5;28;01mwith\u001B[39;00m \u001B[38;5;28mopen\u001B[39m(train_path, \u001B[38;5;124m\"\u001B[39m\u001B[38;5;124mw\u001B[39m\u001B[38;5;124m\"\u001B[39m) \u001B[38;5;28;01mas\u001B[39;00m file:\n\u001B[0;32m--> 158\u001B[0m     \u001B[43mpickle\u001B[49m\u001B[38;5;241;43m.\u001B[39;49m\u001B[43mdump\u001B[49m\u001B[43m(\u001B[49m\u001B[43mtrain_dl\u001B[49m\u001B[38;5;241;43m.\u001B[39;49m\u001B[43mdataset\u001B[49m\u001B[43m,\u001B[49m\u001B[43m \u001B[49m\u001B[43mfile\u001B[49m\u001B[43m)\u001B[49m\n\u001B[1;32m    159\u001B[0m \u001B[38;5;28;01mwith\u001B[39;00m \u001B[38;5;28mopen\u001B[39m(test_path, \u001B[38;5;124m\"\u001B[39m\u001B[38;5;124mw\u001B[39m\u001B[38;5;124m\"\u001B[39m) \u001B[38;5;28;01mas\u001B[39;00m file:\n\u001B[1;32m    160\u001B[0m     pickle\u001B[38;5;241m.\u001B[39mdump(test_dl\u001B[38;5;241m.\u001B[39mdataset, file)\n",
      "\u001B[0;31mAttributeError\u001B[0m: Can't pickle local object '_download_data.<locals>.<lambda>'"
     ]
    }
   ],
   "execution_count": 1
  },
  {
   "metadata": {},
   "cell_type": "code",
   "outputs": [],
   "execution_count": null,
   "source": [
    "NUM_CLIENTS = 100\n",
    "NUM_LABELS = 10\n",
    "\n",
    "DEPLOYMENT_DATASET = \"cifar10\"\n",
    "DEPLOYMENT_DATA_SAVE_PATH = \"rework/deployment_data\""
   ],
   "id": "2d58e00fb56d4c28"
  },
  {
   "metadata": {},
   "cell_type": "code",
   "outputs": [],
   "execution_count": null,
   "source": [
    "# load dataset\n",
    "try:\n",
    "    dataset = datasets.load_from_disk(DEPLOYMENT_DATA_SAVE_PATH, keep_in_memory=False)\n",
    "    print(\"Dataset found and loaded.\")\n",
    "except FileNotFoundError:\n",
    "    print(\"Dataset not found, downloading...\")\n",
    "    dataset = datasets.load_dataset(path=DEPLOYMENT_DATASET, keep_in_memory=False)\n",
    "    dataset.save_to_disk(DEPLOYMENT_DATA_SAVE_PATH)"
   ],
   "id": "ae5a659b32b19e0d"
  },
  {
   "metadata": {
    "ExecuteTime": {
     "end_time": "2024-06-01T10:27:40.252514Z",
     "start_time": "2024-06-01T10:27:38.563920Z"
    }
   },
   "cell_type": "code",
   "source": [
    "from noniid.dataset.cifar10_noniid import get_dataset_cifar10_extr_noniid\n",
    "\n",
    "num_users_cifar = 100\n",
    "nclass_cifar = 2\n",
    "nsamples_cifar = 20\n",
    "rate_unbalance_cifar = 0.5\n",
    "\n",
    "\n",
    "\n",
    "\n",
    "train_dataset_cifar, test_dataset_cifar, user_groups_train_cifar, user_groups_test_cifar = get_dataset_cifar10_extr_noniid(num_users_cifar, nclass_cifar, nsamples_cifar, rate_unbalance_cifar)\n"
   ],
   "id": "213e9e97a90738f",
   "outputs": [
    {
     "name": "stdout",
     "output_type": "stream",
     "text": [
      "Files already downloaded and verified\n",
      "Files already downloaded and verified\n"
     ]
    }
   ],
   "execution_count": 8
  },
  {
   "metadata": {
    "ExecuteTime": {
     "end_time": "2024-06-01T10:27:41.801076Z",
     "start_time": "2024-06-01T10:27:41.793959Z"
    }
   },
   "cell_type": "code",
   "source": [
    "for user, group in user_groups_train_cifar.items():\n",
    "    print(f\"User {user} has {len(group)} samples.\")"
   ],
   "id": "16105179ec3ebf72",
   "outputs": [
    {
     "name": "stdout",
     "output_type": "stream",
     "text": [
      "User 0 has 30 samples.\n",
      "User 1 has 30 samples.\n",
      "User 2 has 30 samples.\n",
      "User 3 has 30 samples.\n",
      "User 4 has 30 samples.\n",
      "User 5 has 30 samples.\n",
      "User 6 has 30 samples.\n",
      "User 7 has 30 samples.\n",
      "User 8 has 30 samples.\n",
      "User 9 has 30 samples.\n",
      "User 10 has 30 samples.\n",
      "User 11 has 30 samples.\n",
      "User 12 has 30 samples.\n",
      "User 13 has 30 samples.\n",
      "User 14 has 30 samples.\n",
      "User 15 has 30 samples.\n",
      "User 16 has 30 samples.\n",
      "User 17 has 30 samples.\n",
      "User 18 has 30 samples.\n",
      "User 19 has 30 samples.\n",
      "User 20 has 30 samples.\n",
      "User 21 has 30 samples.\n",
      "User 22 has 30 samples.\n",
      "User 23 has 30 samples.\n",
      "User 24 has 30 samples.\n",
      "User 25 has 30 samples.\n",
      "User 26 has 30 samples.\n",
      "User 27 has 30 samples.\n",
      "User 28 has 30 samples.\n",
      "User 29 has 30 samples.\n",
      "User 30 has 30 samples.\n",
      "User 31 has 30 samples.\n",
      "User 32 has 30 samples.\n",
      "User 33 has 30 samples.\n",
      "User 34 has 30 samples.\n",
      "User 35 has 30 samples.\n",
      "User 36 has 30 samples.\n",
      "User 37 has 30 samples.\n",
      "User 38 has 30 samples.\n",
      "User 39 has 30 samples.\n",
      "User 40 has 30 samples.\n",
      "User 41 has 30 samples.\n",
      "User 42 has 30 samples.\n",
      "User 43 has 30 samples.\n",
      "User 44 has 30 samples.\n",
      "User 45 has 30 samples.\n",
      "User 46 has 30 samples.\n",
      "User 47 has 30 samples.\n",
      "User 48 has 30 samples.\n",
      "User 49 has 30 samples.\n",
      "User 50 has 30 samples.\n",
      "User 51 has 30 samples.\n",
      "User 52 has 30 samples.\n",
      "User 53 has 30 samples.\n",
      "User 54 has 30 samples.\n",
      "User 55 has 30 samples.\n",
      "User 56 has 30 samples.\n",
      "User 57 has 30 samples.\n",
      "User 58 has 30 samples.\n",
      "User 59 has 30 samples.\n",
      "User 60 has 30 samples.\n",
      "User 61 has 30 samples.\n",
      "User 62 has 30 samples.\n",
      "User 63 has 30 samples.\n",
      "User 64 has 30 samples.\n",
      "User 65 has 30 samples.\n",
      "User 66 has 30 samples.\n",
      "User 67 has 30 samples.\n",
      "User 68 has 30 samples.\n",
      "User 69 has 30 samples.\n",
      "User 70 has 30 samples.\n",
      "User 71 has 30 samples.\n",
      "User 72 has 30 samples.\n",
      "User 73 has 30 samples.\n",
      "User 74 has 30 samples.\n",
      "User 75 has 30 samples.\n",
      "User 76 has 30 samples.\n",
      "User 77 has 30 samples.\n",
      "User 78 has 30 samples.\n",
      "User 79 has 30 samples.\n",
      "User 80 has 30 samples.\n",
      "User 81 has 30 samples.\n",
      "User 82 has 30 samples.\n",
      "User 83 has 30 samples.\n",
      "User 84 has 30 samples.\n",
      "User 85 has 30 samples.\n",
      "User 86 has 30 samples.\n",
      "User 87 has 30 samples.\n",
      "User 88 has 30 samples.\n",
      "User 89 has 30 samples.\n",
      "User 90 has 30 samples.\n",
      "User 91 has 30 samples.\n",
      "User 92 has 30 samples.\n",
      "User 93 has 30 samples.\n",
      "User 94 has 30 samples.\n",
      "User 95 has 30 samples.\n",
      "User 96 has 30 samples.\n",
      "User 97 has 30 samples.\n",
      "User 98 has 30 samples.\n",
      "User 99 has 30 samples.\n"
     ]
    }
   ],
   "execution_count": 9
  },
  {
   "metadata": {
    "ExecuteTime": {
     "end_time": "2024-06-06T20:15:23.089814Z",
     "start_time": "2024-06-06T20:15:21.379577Z"
    }
   },
   "cell_type": "code",
   "source": [
    "from data.noniid_load_dataset import load_datasets\n",
    "\n",
    "train_datasets, test_datasets, valid_set = load_datasets({\n",
    "    \"partitioning\": \"dirichlet\",\n",
    "    \"similarity\": 0.01,\n",
    "    \"name\": \"cifar10\",\n",
    "    \"alpha\": 0.5,\n",
    "    \"batch_sizes\": [32] * 100,\n",
    "    \"labels_per_client\": 2,\n",
    "}, 100, seed=1)"
   ],
   "id": "93ff2cb4bdda2d43",
   "outputs": [
    {
     "name": "stdout",
     "output_type": "stream",
     "text": [
      "Dataset partitioning config: {'partitioning': 'dirichlet', 'similarity': 0.01, 'name': 'cifar10', 'alpha': 0.5, 'batch_sizes': [32, 32, 32, 32, 32, 32, 32, 32, 32, 32, 32, 32, 32, 32, 32, 32, 32, 32, 32, 32, 32, 32, 32, 32, 32, 32, 32, 32, 32, 32, 32, 32, 32, 32, 32, 32, 32, 32, 32, 32, 32, 32, 32, 32, 32, 32, 32, 32, 32, 32, 32, 32, 32, 32, 32, 32, 32, 32, 32, 32, 32, 32, 32, 32, 32, 32, 32, 32, 32, 32, 32, 32, 32, 32, 32, 32, 32, 32, 32, 32, 32, 32, 32, 32, 32, 32, 32, 32, 32, 32, 32, 32, 32, 32, 32, 32, 32, 32, 32, 32], 'labels_per_client': 2}\n",
      "Files already downloaded and verified\n",
      "Files already downloaded and verified\n"
     ]
    }
   ],
   "execution_count": 4
  },
  {
   "metadata": {
    "ExecuteTime": {
     "end_time": "2024-06-06T18:20:23.560038Z",
     "start_time": "2024-06-06T18:20:11.546300Z"
    }
   },
   "cell_type": "code",
   "source": [
    "datapoints_per_client = [len(train_dl.dataset) + len(test_dl.dataset) for train_dl, test_dl in zip(train_datasets, test_datasets)]\n",
    "# datapoints_per_client.sort()\n",
    "print(datapoints_per_client)\n",
    "print()\n",
    "labels_per_client = [len(set([example[1] for example in train_dl.dataset]) | set([example[1] for example in test_dl.dataset])) for train_dl, test_dl in zip(train_datasets, test_datasets)]\n",
    "# labels_per_client.sort()\n",
    "print(labels_per_client)"
   ],
   "id": "d3f95bbe216e8e36",
   "outputs": [
    {
     "name": "stdout",
     "output_type": "stream",
     "text": [
      "[547, 520, 431, 669, 586, 309, 385, 784, 562, 566, 438, 544, 380, 784, 562, 516, 539, 407, 538, 409, 249, 556, 371, 307, 349, 585, 380, 501, 283, 551, 318, 205, 509, 570, 621, 218, 513, 619, 382, 947, 577, 1359, 506, 515, 562, 516, 528, 501, 565, 552, 563, 356, 529, 326, 513, 510, 147, 578, 598, 578, 537, 677, 535, 348, 390, 510, 396, 510, 218, 651, 327, 362, 745, 505, 414, 513, 480, 600, 302, 652, 444, 433, 274, 678, 532, 601, 685, 508, 322, 616, 285, 521, 563, 144, 333, 589, 700, 500, 468, 743]\n",
      "\n",
      "[4, 8, 10, 9, 7, 10, 9, 6, 7, 7, 8, 4, 9, 5, 4, 3, 5, 9, 8, 8, 8, 6, 9, 10, 10, 8, 9, 3, 9, 10, 9, 7, 10, 3, 9, 10, 7, 10, 10, 9, 7, 9, 7, 4, 10, 9, 9, 8, 9, 6, 8, 9, 10, 8, 6, 6, 9, 8, 6, 2, 8, 8, 8, 10, 8, 9, 10, 6, 10, 8, 9, 8, 6, 8, 9, 8, 10, 7, 9, 8, 10, 9, 10, 7, 6, 10, 10, 9, 8, 10, 9, 9, 10, 10, 9, 9, 5, 10, 9, 10]\n"
     ]
    }
   ],
   "execution_count": 19
  },
  {
   "metadata": {
    "ExecuteTime": {
     "end_time": "2024-06-06T18:20:38.463595Z",
     "start_time": "2024-06-06T18:20:38.458550Z"
    }
   },
   "cell_type": "code",
   "source": "print(list(zip(datapoints_per_client, labels_per_client)))",
   "id": "8515a53d62d6a150",
   "outputs": [
    {
     "name": "stdout",
     "output_type": "stream",
     "text": [
      "[(547, 4), (520, 8), (431, 10), (669, 9), (586, 7), (309, 10), (385, 9), (784, 6), (562, 7), (566, 7), (438, 8), (544, 4), (380, 9), (784, 5), (562, 4), (516, 3), (539, 5), (407, 9), (538, 8), (409, 8), (249, 8), (556, 6), (371, 9), (307, 10), (349, 10), (585, 8), (380, 9), (501, 3), (283, 9), (551, 10), (318, 9), (205, 7), (509, 10), (570, 3), (621, 9), (218, 10), (513, 7), (619, 10), (382, 10), (947, 9), (577, 7), (1359, 9), (506, 7), (515, 4), (562, 10), (516, 9), (528, 9), (501, 8), (565, 9), (552, 6), (563, 8), (356, 9), (529, 10), (326, 8), (513, 6), (510, 6), (147, 9), (578, 8), (598, 6), (578, 2), (537, 8), (677, 8), (535, 8), (348, 10), (390, 8), (510, 9), (396, 10), (510, 6), (218, 10), (651, 8), (327, 9), (362, 8), (745, 6), (505, 8), (414, 9), (513, 8), (480, 10), (600, 7), (302, 9), (652, 8), (444, 10), (433, 9), (274, 10), (678, 7), (532, 6), (601, 10), (685, 10), (508, 9), (322, 8), (616, 10), (285, 9), (521, 9), (563, 10), (144, 10), (333, 9), (589, 9), (700, 5), (500, 10), (468, 9), (743, 10)]\n"
     ]
    }
   ],
   "execution_count": 20
  },
  {
   "metadata": {
    "ExecuteTime": {
     "end_time": "2024-06-06T18:30:14.128967Z",
     "start_time": "2024-06-06T18:30:12.236723Z"
    }
   },
   "cell_type": "code",
   "source": [
    "train_datasets2, test_datasets2, valid_set2 = load_datasets({\n",
    "    \"partitioning\": \"replicate\",\n",
    "    \"similarity\": 0.01,\n",
    "    \"name\": \"cifar10\",\n",
    "    \"alpha\": 1,\n",
    "    \"batch_size\": 32,\n",
    "    # \"labels_per_client\": 2,\n",
    "    \"datapoints_per_client\": datapoints_per_client,\n",
    "    # \"datapoints_per_client\": [500] * 100,\n",
    "    # \"labels_per_client\": labels_per_client,\n",
    "    \"labels_per_client\": [10] * 100,\n",
    "}, 100, seed=2)"
   ],
   "id": "477423fa8aab411",
   "outputs": [
    {
     "name": "stdout",
     "output_type": "stream",
     "text": [
      "Dataset partitioning config: {'partitioning': 'replicate', 'similarity': 0.01, 'name': 'cifar10', 'alpha': 1, 'batch_size': 32, 'datapoints_per_client': [547, 520, 431, 669, 586, 309, 385, 784, 562, 566, 438, 544, 380, 784, 562, 516, 539, 407, 538, 409, 249, 556, 371, 307, 349, 585, 380, 501, 283, 551, 318, 205, 509, 570, 621, 218, 513, 619, 382, 947, 577, 1359, 506, 515, 562, 516, 528, 501, 565, 552, 563, 356, 529, 326, 513, 510, 147, 578, 598, 578, 537, 677, 535, 348, 390, 510, 396, 510, 218, 651, 327, 362, 745, 505, 414, 513, 480, 600, 302, 652, 444, 433, 274, 678, 532, 601, 685, 508, 322, 616, 285, 521, 563, 144, 333, 589, 700, 500, 468, 743], 'labels_per_client': [10, 10, 10, 10, 10, 10, 10, 10, 10, 10, 10, 10, 10, 10, 10, 10, 10, 10, 10, 10, 10, 10, 10, 10, 10, 10, 10, 10, 10, 10, 10, 10, 10, 10, 10, 10, 10, 10, 10, 10, 10, 10, 10, 10, 10, 10, 10, 10, 10, 10, 10, 10, 10, 10, 10, 10, 10, 10, 10, 10, 10, 10, 10, 10, 10, 10, 10, 10, 10, 10, 10, 10, 10, 10, 10, 10, 10, 10, 10, 10, 10, 10, 10, 10, 10, 10, 10, 10, 10, 10, 10, 10, 10, 10, 10, 10, 10, 10, 10, 10]}\n",
      "Files already downloaded and verified\n",
      "Files already downloaded and verified\n"
     ]
    }
   ],
   "execution_count": 33
  },
  {
   "metadata": {
    "ExecuteTime": {
     "end_time": "2024-06-06T18:30:23.093877Z",
     "start_time": "2024-06-06T18:30:23.088698Z"
    }
   },
   "cell_type": "code",
   "source": [
    "s1 = [len(dl.dataset) for dl in train_datasets]\n",
    "s1.sort()\n",
    "s2 = [len(dl.dataset) for dl in train_datasets2]\n",
    "s2.sort()\n",
    "print(s1)\n",
    "print(s2)\n",
    "print(len(s1))\n",
    "print(len(s2))"
   ],
   "id": "a12adf0372ccef24",
   "outputs": [
    {
     "name": "stdout",
     "output_type": "stream",
     "text": [
      "[130, 133, 185, 197, 197, 225, 247, 255, 257, 272, 277, 279, 287, 290, 294, 295, 300, 314, 315, 321, 326, 334, 342, 342, 344, 347, 351, 357, 367, 369, 373, 388, 390, 395, 400, 422, 432, 450, 451, 451, 455, 456, 458, 459, 459, 459, 459, 462, 462, 462, 464, 465, 465, 468, 469, 476, 477, 479, 482, 484, 485, 486, 490, 493, 496, 497, 501, 506, 506, 506, 507, 507, 509, 510, 513, 520, 521, 521, 527, 528, 531, 539, 540, 541, 555, 558, 559, 586, 587, 603, 610, 611, 617, 630, 669, 671, 706, 706, 853, 1224]\n",
      "[130, 133, 185, 197, 197, 225, 247, 255, 257, 272, 277, 279, 287, 290, 294, 295, 297, 300, 314, 315, 321, 326, 334, 342, 342, 344, 347, 351, 357, 367, 369, 373, 388, 390, 395, 400, 422, 432, 450, 451, 451, 455, 456, 458, 459, 459, 459, 459, 462, 462, 462, 464, 465, 465, 468, 469, 476, 477, 479, 482, 484, 485, 486, 490, 493, 496, 497, 501, 506, 506, 506, 507, 507, 509, 510, 513, 520, 521, 521, 527, 528, 531, 539, 540, 541, 555, 558, 559, 586, 587, 603, 610, 611, 617, 630, 671, 706, 706, 853, 1224]\n",
      "100\n",
      "100\n"
     ]
    }
   ],
   "execution_count": 35
  },
  {
   "metadata": {
    "ExecuteTime": {
     "end_time": "2024-06-06T18:31:11.428467Z",
     "start_time": "2024-06-06T18:30:50.436492Z"
    }
   },
   "cell_type": "code",
   "source": [
    "s1 = [len(set([example[1] for example in dl.dataset])) for dl in train_datasets]\n",
    "s2 = [len(set([example[1] for example in dl.dataset])) for dl in train_datasets2]\n"
   ],
   "id": "e09879ac7f8be714",
   "outputs": [],
   "execution_count": 36
  },
  {
   "metadata": {
    "ExecuteTime": {
     "end_time": "2024-06-06T18:31:14.801613Z",
     "start_time": "2024-06-06T18:31:14.797933Z"
    }
   },
   "cell_type": "code",
   "source": [
    "s1.sort()\n",
    "s2.sort()\n",
    "print(s1)\n",
    "print(s2)\n"
   ],
   "id": "48667ed7a57279f5",
   "outputs": [
    {
     "name": "stdout",
     "output_type": "stream",
     "text": [
      "[2, 3, 3, 3, 4, 4, 4, 4, 5, 5, 5, 6, 6, 6, 6, 6, 6, 6, 6, 6, 7, 7, 7, 7, 7, 7, 7, 7, 7, 8, 8, 8, 8, 8, 8, 8, 8, 8, 8, 8, 8, 8, 8, 8, 8, 8, 8, 8, 8, 9, 9, 9, 9, 9, 9, 9, 9, 9, 9, 9, 9, 9, 9, 9, 9, 9, 9, 9, 9, 9, 9, 9, 9, 9, 9, 9, 9, 9, 9, 10, 10, 10, 10, 10, 10, 10, 10, 10, 10, 10, 10, 10, 10, 10, 10, 10, 10, 10, 10, 10]\n",
      "[10, 10, 10, 10, 10, 10, 10, 10, 10, 10, 10, 10, 10, 10, 10, 10, 10, 10, 10, 10, 10, 10, 10, 10, 10, 10, 10, 10, 10, 10, 10, 10, 10, 10, 10, 10, 10, 10, 10, 10, 10, 10, 10, 10, 10, 10, 10, 10, 10, 10, 10, 10, 10, 10, 10, 10, 10, 10, 10, 10, 10, 10, 10, 10, 10, 10, 10, 10, 10, 10, 10, 10, 10, 10, 10, 10, 10, 10, 10, 10, 10, 10, 10, 10, 10, 10, 10, 10, 10, 10, 10, 10, 10, 10, 10, 10, 10, 10, 10, 10]\n"
     ]
    }
   ],
   "execution_count": 37
  },
  {
   "metadata": {
    "ExecuteTime": {
     "end_time": "2024-06-06T06:16:35.018880Z",
     "start_time": "2024-06-06T06:16:34.876870Z"
    }
   },
   "cell_type": "code",
   "source": [
    "print(sum([len(dl.dataset) for dl in train_datasets]))\n",
    "print(sum([len(dl.dataset) for dl in test_datasets]))\n",
    "print(len(valid_set.dataset))\n",
    "\n",
    "print(set([example[1] for example in train_datasets[11].dataset]))\n",
    "\n",
    "for example in train_datasets[10].dataset:\n",
    "    print(example[1])\n",
    "    break"
   ],
   "id": "3c8e9adb9a25eb61",
   "outputs": [
    {
     "name": "stdout",
     "output_type": "stream",
     "text": [
      "45053\n",
      "4947\n",
      "10000\n",
      "{0, 1, 2, 5, 7}\n",
      "0\n"
     ]
    }
   ],
   "execution_count": 6
  },
  {
   "metadata": {
    "ExecuteTime": {
     "end_time": "2024-06-06T18:22:38.525621Z",
     "start_time": "2024-06-06T18:22:27.309867Z"
    }
   },
   "cell_type": "code",
   "source": [
    "import matplotlib.pyplot as plt\n",
    "plt.hist([len(set([example[1] for example in dl.dataset])) for dl in train_datasets2], bins=20)"
   ],
   "id": "7ebfda66d926cbb0",
   "outputs": [
    {
     "data": {
      "text/plain": [
       "(array([ 1.,  0.,  3.,  0.,  0.,  4.,  0.,  3.,  0.,  0., 13.,  0., 12.,\n",
       "         0.,  0., 22.,  0., 22.,  0., 20.]),\n",
       " array([ 2. ,  2.4,  2.8,  3.2,  3.6,  4. ,  4.4,  4.8,  5.2,  5.6,  6. ,\n",
       "         6.4,  6.8,  7.2,  7.6,  8. ,  8.4,  8.8,  9.2,  9.6, 10. ]),\n",
       " <BarContainer object of 20 artists>)"
      ]
     },
     "execution_count": 23,
     "metadata": {},
     "output_type": "execute_result"
    },
    {
     "data": {
      "text/plain": [
       "<Figure size 640x480 with 1 Axes>"
      ],
      "image/png": "[encoded data removed]"
     },
     "metadata": {},
     "output_type": "display_data"
    }
   ],
   "execution_count": 23
  },
  {
   "metadata": {
    "ExecuteTime": {
     "end_time": "2024-06-06T18:23:11.843560Z",
     "start_time": "2024-06-06T18:23:01.074290Z"
    }
   },
   "cell_type": "code",
   "source": [
    "import matplotlib.pyplot as plt\n",
    "plt.hist([len(set([example[1] for example in dl.dataset])) for dl in train_datasets], bins=20)"
   ],
   "id": "7bdcc801d0bd6a48",
   "outputs": [
    {
     "data": {
      "text/plain": [
       "(array([ 1.,  0.,  3.,  0.,  0.,  4.,  0.,  3.,  0.,  0.,  9.,  0.,  9.,\n",
       "         0.,  0., 20.,  0., 30.,  0., 21.]),\n",
       " array([ 2. ,  2.4,  2.8,  3.2,  3.6,  4. ,  4.4,  4.8,  5.2,  5.6,  6. ,\n",
       "         6.4,  6.8,  7.2,  7.6,  8. ,  8.4,  8.8,  9.2,  9.6, 10. ]),\n",
       " <BarContainer object of 20 artists>)"
      ]
     },
     "execution_count": 24,
     "metadata": {},
     "output_type": "execute_result"
    },
    {
     "data": {
      "text/plain": [
       "<Figure size 640x480 with 1 Axes>"
      ],
      "image/png": "[encoded data removed]"
     },
     "metadata": {},
     "output_type": "display_data"
    }
   ],
   "execution_count": 24
  },
  {
   "metadata": {
    "ExecuteTime": {
     "end_time": "2024-06-05T15:22:23.454961Z",
     "start_time": "2024-06-05T15:22:19.022292Z"
    }
   },
   "cell_type": "code",
   "source": [
    "for dl in train_datasets:\n",
    "    if len(set([example[1] for example in dl.dataset])) <= 7:\n",
    "        print(len(dl.dataset))"
   ],
   "id": "eb130cb56082f119",
   "outputs": [
    {
     "ename": "KeyboardInterrupt",
     "evalue": "",
     "output_type": "error",
     "traceback": [
      "\u001B[0;31m---------------------------------------------------------------------------\u001B[0m",
      "\u001B[0;31mKeyboardInterrupt\u001B[0m                         Traceback (most recent call last)",
      "Cell \u001B[0;32mIn[3], line 2\u001B[0m\n\u001B[1;32m      1\u001B[0m \u001B[38;5;28;01mfor\u001B[39;00m dl \u001B[38;5;129;01min\u001B[39;00m train_datasets:\n\u001B[0;32m----> 2\u001B[0m     \u001B[38;5;28;01mif\u001B[39;00m \u001B[38;5;28mlen\u001B[39m(\u001B[38;5;28mset\u001B[39m([example[\u001B[38;5;241m1\u001B[39m] \u001B[38;5;28;01mfor\u001B[39;00m example \u001B[38;5;129;01min\u001B[39;00m dl\u001B[38;5;241m.\u001B[39mdataset])) \u001B[38;5;241m<\u001B[39m\u001B[38;5;241m=\u001B[39m \u001B[38;5;241m7\u001B[39m:\n\u001B[1;32m      3\u001B[0m         \u001B[38;5;28mprint\u001B[39m(\u001B[38;5;28mlen\u001B[39m(dl\u001B[38;5;241m.\u001B[39mdataset))\n",
      "Cell \u001B[0;32mIn[3], line 2\u001B[0m, in \u001B[0;36m<listcomp>\u001B[0;34m(.0)\u001B[0m\n\u001B[1;32m      1\u001B[0m \u001B[38;5;28;01mfor\u001B[39;00m dl \u001B[38;5;129;01min\u001B[39;00m train_datasets:\n\u001B[0;32m----> 2\u001B[0m     \u001B[38;5;28;01mif\u001B[39;00m \u001B[38;5;28mlen\u001B[39m(\u001B[38;5;28mset\u001B[39m([example[\u001B[38;5;241m1\u001B[39m] \u001B[38;5;28;01mfor\u001B[39;00m example \u001B[38;5;129;01min\u001B[39;00m dl\u001B[38;5;241m.\u001B[39mdataset])) \u001B[38;5;241m<\u001B[39m\u001B[38;5;241m=\u001B[39m \u001B[38;5;241m7\u001B[39m:\n\u001B[1;32m      3\u001B[0m         \u001B[38;5;28mprint\u001B[39m(\u001B[38;5;28mlen\u001B[39m(dl\u001B[38;5;241m.\u001B[39mdataset))\n",
      "File \u001B[0;32m~/MyStuff/TUDelft/research-project/project/venv/lib/python3.9/site-packages/torch/utils/data/dataset.py:391\u001B[0m, in \u001B[0;36mSubset.__getitem__\u001B[0;34m(self, idx)\u001B[0m\n\u001B[1;32m    389\u001B[0m \u001B[38;5;28;01mif\u001B[39;00m \u001B[38;5;28misinstance\u001B[39m(idx, \u001B[38;5;28mlist\u001B[39m):\n\u001B[1;32m    390\u001B[0m     \u001B[38;5;28;01mreturn\u001B[39;00m \u001B[38;5;28mself\u001B[39m\u001B[38;5;241m.\u001B[39mdataset[[\u001B[38;5;28mself\u001B[39m\u001B[38;5;241m.\u001B[39mindices[i] \u001B[38;5;28;01mfor\u001B[39;00m i \u001B[38;5;129;01min\u001B[39;00m idx]]\n\u001B[0;32m--> 391\u001B[0m \u001B[38;5;28;01mreturn\u001B[39;00m \u001B[38;5;28;43mself\u001B[39;49m\u001B[38;5;241;43m.\u001B[39;49m\u001B[43mdataset\u001B[49m\u001B[43m[\u001B[49m\u001B[38;5;28;43mself\u001B[39;49m\u001B[38;5;241;43m.\u001B[39;49m\u001B[43mindices\u001B[49m\u001B[43m[\u001B[49m\u001B[43midx\u001B[49m\u001B[43m]\u001B[49m\u001B[43m]\u001B[49m\n",
      "File \u001B[0;32m~/MyStuff/TUDelft/research-project/project/venv/lib/python3.9/site-packages/torch/utils/data/dataset.py:391\u001B[0m, in \u001B[0;36mSubset.__getitem__\u001B[0;34m(self, idx)\u001B[0m\n\u001B[1;32m    389\u001B[0m \u001B[38;5;28;01mif\u001B[39;00m \u001B[38;5;28misinstance\u001B[39m(idx, \u001B[38;5;28mlist\u001B[39m):\n\u001B[1;32m    390\u001B[0m     \u001B[38;5;28;01mreturn\u001B[39;00m \u001B[38;5;28mself\u001B[39m\u001B[38;5;241m.\u001B[39mdataset[[\u001B[38;5;28mself\u001B[39m\u001B[38;5;241m.\u001B[39mindices[i] \u001B[38;5;28;01mfor\u001B[39;00m i \u001B[38;5;129;01min\u001B[39;00m idx]]\n\u001B[0;32m--> 391\u001B[0m \u001B[38;5;28;01mreturn\u001B[39;00m \u001B[38;5;28;43mself\u001B[39;49m\u001B[38;5;241;43m.\u001B[39;49m\u001B[43mdataset\u001B[49m\u001B[43m[\u001B[49m\u001B[38;5;28;43mself\u001B[39;49m\u001B[38;5;241;43m.\u001B[39;49m\u001B[43mindices\u001B[49m\u001B[43m[\u001B[49m\u001B[43midx\u001B[49m\u001B[43m]\u001B[49m\u001B[43m]\u001B[49m\n",
      "File \u001B[0;32m~/MyStuff/TUDelft/research-project/project/venv/lib/python3.9/site-packages/torchvision/datasets/cifar.py:118\u001B[0m, in \u001B[0;36mCIFAR10.__getitem__\u001B[0;34m(self, index)\u001B[0m\n\u001B[1;32m    115\u001B[0m img \u001B[38;5;241m=\u001B[39m Image\u001B[38;5;241m.\u001B[39mfromarray(img)\n\u001B[1;32m    117\u001B[0m \u001B[38;5;28;01mif\u001B[39;00m \u001B[38;5;28mself\u001B[39m\u001B[38;5;241m.\u001B[39mtransform \u001B[38;5;129;01mis\u001B[39;00m \u001B[38;5;129;01mnot\u001B[39;00m \u001B[38;5;28;01mNone\u001B[39;00m:\n\u001B[0;32m--> 118\u001B[0m     img \u001B[38;5;241m=\u001B[39m \u001B[38;5;28;43mself\u001B[39;49m\u001B[38;5;241;43m.\u001B[39;49m\u001B[43mtransform\u001B[49m\u001B[43m(\u001B[49m\u001B[43mimg\u001B[49m\u001B[43m)\u001B[49m\n\u001B[1;32m    120\u001B[0m \u001B[38;5;28;01mif\u001B[39;00m \u001B[38;5;28mself\u001B[39m\u001B[38;5;241m.\u001B[39mtarget_transform \u001B[38;5;129;01mis\u001B[39;00m \u001B[38;5;129;01mnot\u001B[39;00m \u001B[38;5;28;01mNone\u001B[39;00m:\n\u001B[1;32m    121\u001B[0m     target \u001B[38;5;241m=\u001B[39m \u001B[38;5;28mself\u001B[39m\u001B[38;5;241m.\u001B[39mtarget_transform(target)\n",
      "File \u001B[0;32m~/MyStuff/TUDelft/research-project/project/venv/lib/python3.9/site-packages/torchvision/transforms/transforms.py:95\u001B[0m, in \u001B[0;36mCompose.__call__\u001B[0;34m(self, img)\u001B[0m\n\u001B[1;32m     93\u001B[0m \u001B[38;5;28;01mdef\u001B[39;00m \u001B[38;5;21m__call__\u001B[39m(\u001B[38;5;28mself\u001B[39m, img):\n\u001B[1;32m     94\u001B[0m     \u001B[38;5;28;01mfor\u001B[39;00m t \u001B[38;5;129;01min\u001B[39;00m \u001B[38;5;28mself\u001B[39m\u001B[38;5;241m.\u001B[39mtransforms:\n\u001B[0;32m---> 95\u001B[0m         img \u001B[38;5;241m=\u001B[39m \u001B[43mt\u001B[49m\u001B[43m(\u001B[49m\u001B[43mimg\u001B[49m\u001B[43m)\u001B[49m\n\u001B[1;32m     96\u001B[0m     \u001B[38;5;28;01mreturn\u001B[39;00m img\n",
      "File \u001B[0;32m~/MyStuff/TUDelft/research-project/project/venv/lib/python3.9/site-packages/torchvision/transforms/transforms.py:137\u001B[0m, in \u001B[0;36mToTensor.__call__\u001B[0;34m(self, pic)\u001B[0m\n\u001B[1;32m    129\u001B[0m \u001B[38;5;28;01mdef\u001B[39;00m \u001B[38;5;21m__call__\u001B[39m(\u001B[38;5;28mself\u001B[39m, pic):\n\u001B[1;32m    130\u001B[0m \u001B[38;5;250m    \u001B[39m\u001B[38;5;124;03m\"\"\"\u001B[39;00m\n\u001B[1;32m    131\u001B[0m \u001B[38;5;124;03m    Args:\u001B[39;00m\n\u001B[1;32m    132\u001B[0m \u001B[38;5;124;03m        pic (PIL Image or numpy.ndarray): Image to be converted to tensor.\u001B[39;00m\n\u001B[0;32m   (...)\u001B[0m\n\u001B[1;32m    135\u001B[0m \u001B[38;5;124;03m        Tensor: Converted image.\u001B[39;00m\n\u001B[1;32m    136\u001B[0m \u001B[38;5;124;03m    \"\"\"\u001B[39;00m\n\u001B[0;32m--> 137\u001B[0m     \u001B[38;5;28;01mreturn\u001B[39;00m \u001B[43mF\u001B[49m\u001B[38;5;241;43m.\u001B[39;49m\u001B[43mto_tensor\u001B[49m\u001B[43m(\u001B[49m\u001B[43mpic\u001B[49m\u001B[43m)\u001B[49m\n",
      "File \u001B[0;32m~/MyStuff/TUDelft/research-project/project/venv/lib/python3.9/site-packages/torchvision/transforms/functional.py:171\u001B[0m, in \u001B[0;36mto_tensor\u001B[0;34m(pic)\u001B[0m\n\u001B[1;32m    169\u001B[0m \u001B[38;5;28;01mif\u001B[39;00m pic\u001B[38;5;241m.\u001B[39mmode \u001B[38;5;241m==\u001B[39m \u001B[38;5;124m\"\u001B[39m\u001B[38;5;124m1\u001B[39m\u001B[38;5;124m\"\u001B[39m:\n\u001B[1;32m    170\u001B[0m     img \u001B[38;5;241m=\u001B[39m \u001B[38;5;241m255\u001B[39m \u001B[38;5;241m*\u001B[39m img\n\u001B[0;32m--> 171\u001B[0m img \u001B[38;5;241m=\u001B[39m \u001B[43mimg\u001B[49m\u001B[38;5;241;43m.\u001B[39;49m\u001B[43mview\u001B[49m\u001B[43m(\u001B[49m\u001B[43mpic\u001B[49m\u001B[38;5;241;43m.\u001B[39;49m\u001B[43msize\u001B[49m\u001B[43m[\u001B[49m\u001B[38;5;241;43m1\u001B[39;49m\u001B[43m]\u001B[49m\u001B[43m,\u001B[49m\u001B[43m \u001B[49m\u001B[43mpic\u001B[49m\u001B[38;5;241;43m.\u001B[39;49m\u001B[43msize\u001B[49m\u001B[43m[\u001B[49m\u001B[38;5;241;43m0\u001B[39;49m\u001B[43m]\u001B[49m\u001B[43m,\u001B[49m\u001B[43m \u001B[49m\u001B[43mF_pil\u001B[49m\u001B[38;5;241;43m.\u001B[39;49m\u001B[43mget_image_num_channels\u001B[49m\u001B[43m(\u001B[49m\u001B[43mpic\u001B[49m\u001B[43m)\u001B[49m\u001B[43m)\u001B[49m\n\u001B[1;32m    172\u001B[0m \u001B[38;5;66;03m# put it from HWC to CHW format\u001B[39;00m\n\u001B[1;32m    173\u001B[0m img \u001B[38;5;241m=\u001B[39m img\u001B[38;5;241m.\u001B[39mpermute((\u001B[38;5;241m2\u001B[39m, \u001B[38;5;241m0\u001B[39m, \u001B[38;5;241m1\u001B[39m))\u001B[38;5;241m.\u001B[39mcontiguous()\n",
      "\u001B[0;31mKeyboardInterrupt\u001B[0m: "
     ]
    }
   ],
   "execution_count": 3
  },
  {
   "metadata": {
    "ExecuteTime": {
     "end_time": "2024-06-06T06:17:24.856065Z",
     "start_time": "2024-06-06T06:17:24.715152Z"
    }
   },
   "cell_type": "code",
   "source": [
    "print([len(dl.dataset) for dl in train_datasets])\n",
    "plt.hist([len(dl.dataset) for dl in train_datasets], bins=20)\n"
   ],
   "id": "eb0992d9caf18b44",
   "outputs": [
    {
     "name": "stdout",
     "output_type": "stream",
     "text": [
      "[451, 432, 471, 431, 411, 451, 536, 412, 432, 422, 451, 491, 471, 469, 410, 432, 525, 411, 432, 441, 432, 431, 469, 431, 431, 490, 546, 410, 410, 441, 431, 431, 489, 410, 421, 450, 525, 410, 410, 421, 430, 431, 469, 431, 469, 546, 546, 431, 410, 441, 440, 450, 479, 410, 410, 430, 525, 525, 430, 420, 430, 430, 479, 524, 409, 450, 585, 430, 410, 440, 430, 430, 469, 419, 419, 440, 545, 469, 420, 535, 450, 450, 468, 409, 408, 429, 545, 410, 410, 440, 429, 429, 468, 419, 429, 429, 545, 469, 420, 440]\n"
     ]
    },
    {
     "data": {
      "text/plain": [
       "(array([18.,  9., 27.,  8.,  8.,  0.,  9.,  2.,  2.,  3.,  0.,  0.,  0.,\n",
       "         5.,  2.,  6.,  0.,  0.,  0.,  1.]),\n",
       " array([408.  , 416.85, 425.7 , 434.55, 443.4 , 452.25, 461.1 , 469.95,\n",
       "        478.8 , 487.65, 496.5 , 505.35, 514.2 , 523.05, 531.9 , 540.75,\n",
       "        549.6 , 558.45, 567.3 , 576.15, 585.  ]),\n",
       " <BarContainer object of 20 artists>)"
      ]
     },
     "execution_count": 8,
     "metadata": {},
     "output_type": "execute_result"
    },
    {
     "data": {
      "text/plain": [
       "<Figure size 640x480 with 1 Axes>"
      ],
      "image/png": "[encoded data removed]"
     },
     "metadata": {},
     "output_type": "display_data"
    }
   ],
   "execution_count": 8
  },
  {
   "metadata": {
    "ExecuteTime": {
     "end_time": "2024-06-05T15:10:37.204328Z",
     "start_time": "2024-06-05T15:10:37.197293Z"
    }
   },
   "cell_type": "code",
   "source": [
    "from data.load_data import get_data_for_client\n",
    "from torch.utils.data import DataLoader\n",
    "\n",
    "client_data = get_data_for_client(0, 500)"
   ],
   "id": "70e3cae03496bf55",
   "outputs": [],
   "execution_count": 20
  },
  {
   "metadata": {
    "ExecuteTime": {
     "end_time": "2024-06-05T15:09:36.795920Z",
     "start_time": "2024-06-05T15:09:36.792962Z"
    }
   },
   "cell_type": "code",
   "source": "dl = DataLoader(client_data, batch_size=32, shuffle=True)",
   "id": "621ff56c3f0d781c",
   "outputs": [],
   "execution_count": 13
  },
  {
   "metadata": {
    "ExecuteTime": {
     "end_time": "2024-06-05T15:10:31.085945Z",
     "start_time": "2024-06-05T15:10:30.933149Z"
    }
   },
   "cell_type": "code",
   "source": "print(len(set([example[\"label\"] for example in dl.dataset[\"train\"]])))",
   "id": "2797c8658c0ec5d5",
   "outputs": [
    {
     "name": "stdout",
     "output_type": "stream",
     "text": [
      "10\n"
     ]
    }
   ],
   "execution_count": 19
  },
  {
   "metadata": {
    "ExecuteTime": {
     "end_time": "2024-06-06T20:15:33.170363Z",
     "start_time": "2024-06-06T20:15:33.139815Z"
    }
   },
   "cell_type": "code",
   "source": [
    "%load_ext autoreload\n",
    "%autoreload 2"
   ],
   "id": "ea44cd046d490cd8",
   "outputs": [],
   "execution_count": 5
  },
  {
   "metadata": {
    "ExecuteTime": {
     "end_time": "2024-06-06T20:15:33.796076Z",
     "start_time": "2024-06-06T20:15:33.762380Z"
    }
   },
   "cell_type": "code",
   "source": [
    "from client.client import FlowerClient\n",
    "\n",
    "client = FlowerClient(0, 32, 3, train_datasets[1], test_datasets[1])"
   ],
   "id": "a55654d2c20a0c2f",
   "outputs": [],
   "execution_count": 6
  },
  {
   "metadata": {
    "ExecuteTime": {
     "end_time": "2024-06-06T20:16:19.347716Z",
     "start_time": "2024-06-06T20:16:19.134932Z"
    }
   },
   "cell_type": "code",
   "source": [
    "from client.network import test\n",
    "\n",
    "test(client.net, client.train_loader)"
   ],
   "id": "ffabb62ee55d84d0",
   "outputs": [
    {
     "data": {
      "text/plain": [
       "(2.2861200275584164, 0.0)"
      ]
     },
     "execution_count": 9,
     "metadata": {},
     "output_type": "execute_result"
    }
   ],
   "execution_count": 9
  },
  {
   "metadata": {
    "ExecuteTime": {
     "end_time": "2024-06-06T20:10:36.748879Z",
     "start_time": "2024-06-06T20:10:36.746128Z"
    }
   },
   "cell_type": "code",
   "source": "",
   "id": "80ad946adbc4c7b8",
   "outputs": [],
   "execution_count": 13
  },
  {
   "metadata": {},
   "cell_type": "code",
   "outputs": [],
   "execution_count": null,
   "source": "",
   "id": "b6d0f89a5faaf364"
  }
 ],
 "metadata": {
  "kernelspec": {
   "display_name": "Python 3",
   "language": "python",
   "name": "python3"
  },
  "language_info": {
   "codemirror_mode": {
    "name": "ipython",
    "version": 2
   },
   "file_extension": ".py",
   "mimetype": "text/x-python",
   "name": "python",
   "nbconvert_exporter": "python",
   "pygments_lexer": "ipython2",
   "version": "2.7.6"
  }
 },
 "nbformat": 4,
 "nbformat_minor": 5
}
