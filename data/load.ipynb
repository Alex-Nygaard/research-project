{
 "cells": [
  {
   "metadata": {},
   "cell_type": "markdown",
   "source": "# Data loading",
   "id": "e5bf3a38226ff7f1"
  },
  {
   "cell_type": "code",
   "id": "initial_id",
   "metadata": {
    "collapsed": true,
    "ExecuteTime": {
     "end_time": "2024-05-05T08:38:23.979969Z",
     "start_time": "2024-05-05T08:38:22.047341Z"
    }
   },
   "source": [
    "from datasets import Dataset\n",
    "from flwr_datasets import FederatedDataset\n"
   ],
   "outputs": [],
   "execution_count": 1
  },
  {
   "metadata": {},
   "cell_type": "code",
   "outputs": [],
   "execution_count": null,
   "source": [
    "DATASET = \"cifar100\"\n",
    "NUM_CLIENTS = 50"
   ],
   "id": "17e7af64ec0eadee"
  },
  {
   "metadata": {
    "ExecuteTime": {
     "end_time": "2024-05-05T08:38:23.984297Z",
     "start_time": "2024-05-05T08:38:23.981377Z"
    }
   },
   "cell_type": "code",
   "source": [
    "\n",
    "\n",
    "fds = FederatedDataset(dataset=DATASET, partitioners={\"train\": 100}, seed=1010)\n"
   ],
   "id": "73f3c78fd20f1c8c",
   "outputs": [
    {
     "name": "stderr",
     "output_type": "stream",
     "text": [
      "/Users/alex/MyStuff/TUDelft/research-project/project/venv/lib/python3.9/site-packages/flwr_datasets/utils.py:84: UserWarning: The currently tested dataset are ['mnist', 'cifar10', 'fashion_mnist', 'sasha/dog-food', 'zh-plus/tiny-imagenet']. Given: cifar100.\n",
      "  warnings.warn(\n"
     ]
    }
   ],
   "execution_count": 2
  },
  {
   "metadata": {
    "ExecuteTime": {
     "end_time": "2024-05-05T08:41:37.598824Z",
     "start_time": "2024-05-05T08:41:37.591457Z"
    }
   },
   "cell_type": "code",
   "source": "dataset = fds.load_full(\"train\")\n",
   "id": "618230d1a1472256",
   "outputs": [],
   "execution_count": 5
  },
  {
   "metadata": {
    "ExecuteTime": {
     "end_time": "2024-05-05T08:51:16.319716Z",
     "start_time": "2024-05-05T08:51:16.313834Z"
    }
   },
   "cell_type": "code",
   "source": "dataset_test = fds.load_full(\"test\")",
   "id": "b68b19bbca5038b7",
   "outputs": [],
   "execution_count": 9
  },
  {
   "metadata": {},
   "cell_type": "code",
   "source": [
    "print(dataset.dataset_size)\n",
    "print(dataset.features)\n",
    "print(dataset.to_csv(\"train.csv\"))\n"
   ],
   "id": "f91550fc8f0ee7bb",
   "outputs": [],
   "execution_count": null
  },
  {
   "metadata": {
    "ExecuteTime": {
     "end_time": "2024-05-05T08:53:05.904673Z",
     "start_time": "2024-05-05T08:53:05.898041Z"
    }
   },
   "cell_type": "code",
   "source": [
    "print(dataset.dataset_size)\n",
    "print(dataset_test.dataset_size)\n"
   ],
   "id": "49ba7875fcb9b059",
   "outputs": [
    {
     "name": "stdout",
     "output_type": "stream",
     "text": [
      "135372767\n",
      "135372767\n"
     ]
    }
   ],
   "execution_count": 13
  },
  {
   "metadata": {},
   "cell_type": "code",
   "outputs": [],
   "execution_count": null,
   "source": "print(dataset_test.to_csv(\"test.csv\"))",
   "id": "e7e4eff0c7d2bb02"
  }
 ],
 "metadata": {
  "kernelspec": {
   "display_name": "Python 3",
   "language": "python",
   "name": "python3"
  },
  "language_info": {
   "codemirror_mode": {
    "name": "ipython",
    "version": 2
   },
   "file_extension": ".py",
   "mimetype": "text/x-python",
   "name": "python",
   "nbconvert_exporter": "python",
   "pygments_lexer": "ipython2",
   "version": "2.7.6"
  }
 },
 "nbformat": 4,
 "nbformat_minor": 5
}
